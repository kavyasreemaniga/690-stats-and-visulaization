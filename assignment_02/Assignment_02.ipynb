{
  "nbformat": 4,
  "nbformat_minor": 0,
  "metadata": {
    "colab": {
      "provenance": [],
      "include_colab_link": true
    },
    "kernelspec": {
      "name": "python3",
      "display_name": "Python 3"
    },
    "language_info": {
      "name": "python"
    }
  },
  "cells": [
    {
      "cell_type": "markdown",
      "metadata": {
        "id": "view-in-github",
        "colab_type": "text"
      },
      "source": [
        "<a href=\"https://colab.research.google.com/github/konkasivaji/690-stats-and-visulaization/blob/main/assignment_02/Assignment_02.ipynb\" target=\"_parent\"><img src=\"https://colab.research.google.com/assets/colab-badge.svg\" alt=\"Open In Colab\"/></a>"
      ]
    },
    {
      "cell_type": "markdown",
      "source": [
        "Only integers up to ten digits are accepted as user input."
      ],
      "metadata": {
        "id": "rw4GTrpeiAPl"
      }
    },
    {
      "cell_type": "code",
      "source": [
        "count=0;\n",
        "int_lst=[];\n",
        "while(count<10):\n",
        " try:\n",
        "   a = int(input(\"Enter integers: \"))\n",
        "   int_lst.append(a);\n",
        "   count=count+1;\n",
        " except:\n",
        "  print(\"please enter integer values only\")\n",
        "\n",
        "print(\"Entered integer values are: \",int_lst)"
      ],
      "metadata": {
        "id": "rUhmfhJptSEB",
        "outputId": "895e2b11-d862-4a5b-af78-cf2948759688",
        "colab": {
          "base_uri": "https://localhost:8080/"
        }
      },
      "execution_count": 4,
      "outputs": [
        {
          "output_type": "stream",
          "name": "stdout",
          "text": [
            "Enter integers: g\n",
            "please enter integer values only\n",
            "Enter integers: 88\n",
            "Enter integers: 78\n",
            "Enter integers: kl\n",
            "please enter integer values only\n",
            "Enter integers: 5\n",
            "Enter integers: u7\n",
            "please enter integer values only\n",
            "Enter integers: u\n",
            "please enter integer values only\n",
            "Enter integers: 89\n",
            "Enter integers: 89\n",
            "Enter integers: 9p\n",
            "please enter integer values only\n",
            "Enter integers: 00\n",
            "Enter integers: 98\n",
            "Enter integers: 45\n",
            "Enter integers: 23\n",
            "Enter integers: 34\n",
            "Entered integer values are:  [88, 78, 5, 89, 89, 0, 98, 45, 23, 34]\n"
          ]
        }
      ]
    },
    {
      "cell_type": "markdown",
      "source": [
        "To Find minimum value"
      ],
      "metadata": {
        "id": "HjfJNHWYAWbs"
      }
    },
    {
      "cell_type": "code",
      "source": [
        "min_val = int_lst[0]\n",
        "for i in range(1, len(int_lst)):\n",
        "    if int_lst[i] < min_val:\n",
        "        min_val = int_lst[i]\n",
        "\n",
        "print('The minimum value is: ', min_val)"
      ],
      "metadata": {
        "colab": {
          "base_uri": "https://localhost:8080/"
        },
        "id": "8mQhZHqyjZbi",
        "outputId": "c010d05c-d745-4201-90e2-cd55164eb802"
      },
      "execution_count": 5,
      "outputs": [
        {
          "output_type": "stream",
          "name": "stdout",
          "text": [
            "The minimum value is:  0\n"
          ]
        }
      ]
    },
    {
      "cell_type": "markdown",
      "source": [
        "To finnd maximum value"
      ],
      "metadata": {
        "id": "iMykQSZ-EE_a"
      }
    },
    {
      "cell_type": "code",
      "source": [
        "max_val = int_lst[0]\n",
        "for i in range(1, len(int_lst)):\n",
        "    if int_lst[i] > max_val:\n",
        "        max_val = int_lst[i]\n",
        " \n",
        "print('The maximum value is: ', max_val)"
      ],
      "metadata": {
        "colab": {
          "base_uri": "https://localhost:8080/"
        },
        "id": "ZjR83JRSEm4H",
        "outputId": "7f9dcb1c-79d3-4dc3-d0c5-2c3f7ff94eb9"
      },
      "execution_count": 6,
      "outputs": [
        {
          "output_type": "stream",
          "name": "stdout",
          "text": [
            "The maximum value is:  98\n"
          ]
        }
      ]
    },
    {
      "cell_type": "markdown",
      "source": [
        "To Find the Range value"
      ],
      "metadata": {
        "id": "P8QYXQ-mWU34"
      }
    },
    {
      "cell_type": "code",
      "source": [
        "Range = max_val - min_val\n",
        "print('The range of th given list is: ', Range)"
      ],
      "metadata": {
        "colab": {
          "base_uri": "https://localhost:8080/"
        },
        "id": "GQZYOEE_WhCZ",
        "outputId": "57b39f5d-dacd-4814-a393-3637c1024350"
      },
      "execution_count": 7,
      "outputs": [
        {
          "output_type": "stream",
          "name": "stdout",
          "text": [
            "The range of th given list is:  98\n"
          ]
        }
      ]
    },
    {
      "cell_type": "markdown",
      "source": [
        "To Find the Mean"
      ],
      "metadata": {
        "id": "jz6vhBOliHx0"
      }
    },
    {
      "cell_type": "code",
      "source": [
        "average = 0\n",
        "for i in range(len(int_lst)):\n",
        " average = average + int_lst[i]           \n",
        " mean = average / len(int_lst)\n",
        "print('The mean of the list is ', mean )"
      ],
      "metadata": {
        "colab": {
          "base_uri": "https://localhost:8080/"
        },
        "id": "WXxOV8msiO_t",
        "outputId": "5ec19c68-2210-4938-e257-7ee7c23e7a31"
      },
      "execution_count": 8,
      "outputs": [
        {
          "output_type": "stream",
          "name": "stdout",
          "text": [
            "The mean of the list is  54.9\n"
          ]
        }
      ]
    },
    {
      "cell_type": "markdown",
      "source": [
        "To Find variance"
      ],
      "metadata": {
        "id": "VEARN7NOv192"
      }
    },
    {
      "cell_type": "code",
      "source": [
        "total_sqrt = 0\n",
        "for i in range(len(int_lst)):\n",
        "    y = mean-int_lst[i]\n",
        "    sqrt= y*y\n",
        "    total_sqrt=total_sqrt+sqrt\n",
        "variance=total_sqrt/len(int_lst)\n",
        "\n",
        "print('The variance value is:',variance)   "
      ],
      "metadata": {
        "colab": {
          "base_uri": "https://localhost:8080/"
        },
        "id": "hpVRNCYsvhic",
        "outputId": "23ad6d35-b8b8-4cf9-fae1-a6c89a5f9854"
      },
      "execution_count": 9,
      "outputs": [
        {
          "output_type": "stream",
          "name": "stdout",
          "text": [
            "The variance value is: 1286.89\n"
          ]
        }
      ]
    },
    {
      "cell_type": "markdown",
      "source": [
        "To find Standred deviation value"
      ],
      "metadata": {
        "id": "Kij8l7S9w93j"
      }
    },
    {
      "cell_type": "code",
      "source": [
        "std_dev = variance ** 0.5\n",
        "print('The standred deviation:',std_dev)"
      ],
      "metadata": {
        "colab": {
          "base_uri": "https://localhost:8080/"
        },
        "id": "sWy9dWiyifXs",
        "outputId": "1ce3870c-a31d-400f-dd46-a2a619a16e7e"
      },
      "execution_count": 10,
      "outputs": [
        {
          "output_type": "stream",
          "name": "stdout",
          "text": [
            "The standred deviation: 35.873249086192345\n"
          ]
        }
      ]
    }
  ]
}