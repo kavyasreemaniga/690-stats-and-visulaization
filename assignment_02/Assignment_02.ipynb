{
  "nbformat": 4,
  "nbformat_minor": 0,
  "metadata": {
    "colab": {
      "provenance": [],
      "authorship_tag": "ABX9TyPxxIdups3NZHM4F/mrUxp1",
      "include_colab_link": true
    },
    "kernelspec": {
      "name": "python3",
      "display_name": "Python 3"
    },
    "language_info": {
      "name": "python"
    }
  },
  "cells": [
    {
      "cell_type": "markdown",
      "metadata": {
        "id": "view-in-github",
        "colab_type": "text"
      },
      "source": [
        "<a href=\"https://colab.research.google.com/github/konkasivaji/690-stats-and-visulaization/blob/main/assignment_02/Assignment_02.ipynb\" target=\"_parent\"><img src=\"https://colab.research.google.com/assets/colab-badge.svg\" alt=\"Open In Colab\"/></a>"
      ]
    },
    {
      "cell_type": "markdown",
      "source": [
        "Only integers up to ten digits are accepted as user input."
      ],
      "metadata": {
        "id": "rw4GTrpeiAPl"
      }
    },
    {
      "cell_type": "code",
      "execution_count": 18,
      "metadata": {
        "colab": {
          "base_uri": "https://localhost:8080/"
        },
        "id": "CQpeYwyyg4j6",
        "outputId": "c8e1f072-5b3f-4b75-bdd5-638f5245d087"
      },
      "outputs": [
        {
          "output_type": "stream",
          "name": "stdout",
          "text": [
            "Enter 10 integeres: \n",
            "23\n",
            "hj\n",
            "please enter integer values\n",
            "56\n",
            "7\n",
            "67\n",
            "54\n",
            "98\n",
            "5\n",
            "67\n",
            "5\n",
            "[23, 56, 7, 67, 54, 98, 5, 67, 5]\n"
          ]
        }
      ],
      "source": [
        "int_lst = []\n",
        "count = 0\n",
        "print('Enter 10 integeres: ')\n",
        "for count in range(10):\n",
        "  val = input()\n",
        "  if val.isnumeric(): \n",
        "    int_lst.append(val)\n",
        "    count = count + 1\n",
        "  else:\n",
        "       print('please enter integer values')\n",
        "for i in range(len(int_lst)):\n",
        "    int_lst[i]=int(int_lst[i])\n",
        "\n",
        "print(int_lst)"
      ]
    },
    {
      "cell_type": "markdown",
      "source": [
        "To Find minimum value"
      ],
      "metadata": {
        "id": "HjfJNHWYAWbs"
      }
    },
    {
      "cell_type": "code",
      "source": [
        "min_val = int_lst[0]\n",
        "for i in range(1, len(int_lst)):\n",
        "    if int_lst[i] < min_val:\n",
        "        min_val = int_lst[i]\n",
        "\n",
        "print('The minimum value is: ', min_val)"
      ],
      "metadata": {
        "colab": {
          "base_uri": "https://localhost:8080/"
        },
        "id": "8mQhZHqyjZbi",
        "outputId": "bfc7e472-220b-4de1-f952-0af27bc80972"
      },
      "execution_count": 19,
      "outputs": [
        {
          "output_type": "stream",
          "name": "stdout",
          "text": [
            "The minimum value is:  5\n"
          ]
        }
      ]
    },
    {
      "cell_type": "markdown",
      "source": [
        "To finnd maximum value"
      ],
      "metadata": {
        "id": "iMykQSZ-EE_a"
      }
    },
    {
      "cell_type": "code",
      "source": [
        "max_val = int_lst[0]\n",
        "for i in range(1, len(int_lst)):\n",
        "    if int_lst[i] > max_val:\n",
        "        max_val = int_lst[i]\n",
        " \n",
        "print('The maximum value is: ', max_val)"
      ],
      "metadata": {
        "colab": {
          "base_uri": "https://localhost:8080/"
        },
        "id": "ZjR83JRSEm4H",
        "outputId": "8d17d64d-de5d-46ce-ce84-4474a4b635bd"
      },
      "execution_count": 20,
      "outputs": [
        {
          "output_type": "stream",
          "name": "stdout",
          "text": [
            "The maximum value is:  98\n"
          ]
        }
      ]
    },
    {
      "cell_type": "markdown",
      "source": [
        "To Find the Range value"
      ],
      "metadata": {
        "id": "P8QYXQ-mWU34"
      }
    },
    {
      "cell_type": "code",
      "source": [
        "Range = max_val - min_val\n",
        "print('The range of th given list is: ', Range)"
      ],
      "metadata": {
        "colab": {
          "base_uri": "https://localhost:8080/"
        },
        "id": "GQZYOEE_WhCZ",
        "outputId": "18828f65-3619-47e5-9e73-d957307d78ec"
      },
      "execution_count": 5,
      "outputs": [
        {
          "output_type": "stream",
          "name": "stdout",
          "text": [
            "The range of th given list is:  92\n"
          ]
        }
      ]
    },
    {
      "cell_type": "markdown",
      "source": [
        "To Find the Mean"
      ],
      "metadata": {
        "id": "jz6vhBOliHx0"
      }
    },
    {
      "cell_type": "code",
      "source": [
        "average = 0\n",
        "for i in range(len(int_lst)):\n",
        " average = average + int_lst[i]           \n",
        " mean = average / len(int_lst)\n",
        "print('The mean of the list is ', mean )"
      ],
      "metadata": {
        "colab": {
          "base_uri": "https://localhost:8080/"
        },
        "id": "WXxOV8msiO_t",
        "outputId": "968f1b65-8e6e-4fba-a886-5f22528ce756"
      },
      "execution_count": 6,
      "outputs": [
        {
          "output_type": "stream",
          "name": "stdout",
          "text": [
            "The mean of the list is  33.9\n"
          ]
        }
      ]
    },
    {
      "cell_type": "markdown",
      "source": [
        "To Find variance"
      ],
      "metadata": {
        "id": "VEARN7NOv192"
      }
    },
    {
      "cell_type": "code",
      "source": [
        "total_sqrt = 0\n",
        "for i in range(len(int_lst)):\n",
        "    y = mean-int_lst[i]\n",
        "    sqrt= y*y\n",
        "    total_sqrt=total_sqrt+sqrt\n",
        "variance=total_sqrt/len(int_lst)\n",
        "\n",
        "print('The variance value is:',variance)   "
      ],
      "metadata": {
        "colab": {
          "base_uri": "https://localhost:8080/"
        },
        "id": "hpVRNCYsvhic",
        "outputId": "1928f50c-4480-4d7e-aad8-e9f21446e7b5"
      },
      "execution_count": 14,
      "outputs": [
        {
          "output_type": "stream",
          "name": "stdout",
          "text": [
            "The variance value is: 905.6899999999998\n"
          ]
        }
      ]
    },
    {
      "cell_type": "markdown",
      "source": [
        "To find Standred deviation value"
      ],
      "metadata": {
        "id": "Kij8l7S9w93j"
      }
    },
    {
      "cell_type": "code",
      "source": [
        "std_dev = variance ** 0.5\n",
        "print('The standred deviation:',std_dev)"
      ],
      "metadata": {
        "colab": {
          "base_uri": "https://localhost:8080/"
        },
        "id": "sWy9dWiyifXs",
        "outputId": "3a597614-f25a-4126-ac2a-7dd73a159fa5"
      },
      "execution_count": 17,
      "outputs": [
        {
          "output_type": "stream",
          "name": "stdout",
          "text": [
            "The standred deviation: 30.094683915934386\n"
          ]
        }
      ]
    }
  ]
}