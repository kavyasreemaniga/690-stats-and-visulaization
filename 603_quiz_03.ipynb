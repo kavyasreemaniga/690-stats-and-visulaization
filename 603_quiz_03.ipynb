{
  "nbformat": 4,
  "nbformat_minor": 0,
  "metadata": {
    "colab": {
      "provenance": [],
      "toc_visible": true,
      "authorship_tag": "ABX9TyMk1Dr8jyuzTL6llds+j/lg",
      "include_colab_link": true
    },
    "kernelspec": {
      "name": "python3",
      "display_name": "Python 3"
    },
    "language_info": {
      "name": "python"
    }
  },
  "cells": [
    {
      "cell_type": "markdown",
      "metadata": {
        "id": "view-in-github",
        "colab_type": "text"
      },
      "source": [
        "<a href=\"https://colab.research.google.com/github/kavyasreemaniga/690-stats-and-visulaization/blob/main/603_quiz_03.ipynb\" target=\"_parent\"><img src=\"https://colab.research.google.com/assets/colab-badge.svg\" alt=\"Open In Colab\"/></a>"
      ]
    },
    {
      "cell_type": "code",
      "execution_count": 1,
      "metadata": {
        "id": "CawI4dEBMErQ",
        "colab": {
          "base_uri": "https://localhost:8080/"
        },
        "outputId": "067a3c8c-5f74-4274-a51d-3f9cc1add50a"
      },
      "outputs": [
        {
          "output_type": "stream",
          "name": "stdout",
          "text": [
            "Looking in indexes: https://pypi.org/simple, https://us-python.pkg.dev/colab-wheels/public/simple/\n",
            "Collecting mrjob\n",
            "  Downloading mrjob-0.7.4-py2.py3-none-any.whl (439 kB)\n",
            "\u001b[K     |████████████████████████████████| 439 kB 2.0 MB/s \n",
            "\u001b[?25hRequirement already satisfied: PyYAML>=3.10 in /usr/local/lib/python3.7/dist-packages (from mrjob) (6.0)\n",
            "Installing collected packages: mrjob\n",
            "Successfully installed mrjob-0.7.4\n"
          ]
        }
      ],
      "source": [
        "!pip install mrjob"
      ]
    },
    {
      "cell_type": "code",
      "source": [
        "%%file min_temp.py\n",
        "from mrjob.job import MRJob\n",
        "\n",
        "class MRMinTemperature(MRJob):\n",
        "    \n",
        "    def ToFahrenheit(self, cels):\n",
        "        celsius = float(cels) / 10.0\n",
        "        fahrenheit = celsius * 1.8 + 32.0\n",
        "        return fahrenheit\n",
        "\n",
        "    def mapper(self, _, line):\n",
        "        (location, date, type, data, x, y, z, w) = line.split(',')\n",
        "        if (type == 'TMIN'):\n",
        "            temperature = self.ToFahrenheit(data)\n",
        "            yield location, temperature\n",
        "\n",
        "    def reducer(self, location, temps):\n",
        "        yield location, min(temps)\n",
        "\n",
        "\n",
        "if __name__ == '__main__':\n",
        "    MRMinTemperature.run()\n",
        "    "
      ],
      "metadata": {
        "colab": {
          "base_uri": "https://localhost:8080/"
        },
        "id": "qvRcNAJthBLm",
        "outputId": "d67e3afe-c32c-4e15-eb23-8e03c6a1f60a"
      },
      "execution_count": 3,
      "outputs": [
        {
          "output_type": "stream",
          "name": "stdout",
          "text": [
            "Writing min_temp.py\n"
          ]
        }
      ]
    },
    {
      "cell_type": "code",
      "source": [
        "import min_temp\n",
        "\n",
        "mr_job = min_temp.MRMinTemperature(args=['1800.csv'])\n",
        "with mr_job.make_runner() as runner:\n",
        "     runner.run()\n",
        "     for key, value in mr_job.parse_output(runner.cat_output()):\n",
        "       print(key, value)"
      ],
      "metadata": {
        "colab": {
          "base_uri": "https://localhost:8080/"
        },
        "id": "7VPUC4HChqWc",
        "outputId": "d7ca5eff-84a3-4e59-b60c-40770a1c58c7"
      },
      "execution_count": 4,
      "outputs": [
        {
          "output_type": "stream",
          "name": "stderr",
          "text": [
            "WARNING:mrjob.conf:No configs specified for inline runner\n"
          ]
        },
        {
          "output_type": "stream",
          "name": "stdout",
          "text": [
            "EZE00100082 7.699999999999999\n",
            "ITE00100554 5.359999999999999\n"
          ]
        }
      ]
    },
    {
      "cell_type": "code",
      "source": [],
      "metadata": {
        "id": "PY9wiOmkh9N9"
      },
      "execution_count": null,
      "outputs": []
    }
  ]
}